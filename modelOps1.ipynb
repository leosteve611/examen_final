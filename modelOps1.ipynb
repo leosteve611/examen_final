{
 "cells": [
  {
   "cell_type": "code",
   "execution_count": 0,
   "metadata": {
    "application/vnd.databricks.v1+cell": {
     "cellMetadata": {
      "byteLimit": 2048000,
      "rowLimit": 10000
     },
     "inputWidgets": {},
     "nuid": "18fd41a8-9d61-4838-8afd-7ff053744f70",
     "showTitle": false,
     "tableResultSettingsMap": {},
     "title": ""
    }
   },
   "outputs": [],
   "source": [
    "# -----------------------------------------------------------\n",
    "# 1. Preparación: Lectura y procesamiento de la data original\n",
    "# -----------------------------------------------------------\n",
    "from pyspark.sql.functions import expr, col, min, mean, greatest,max\n",
    "from mlflow.models import infer_signature"
   ]
  },
  {
   "cell_type": "code",
   "execution_count": 0,
   "metadata": {
    "application/vnd.databricks.v1+cell": {
     "cellMetadata": {
      "byteLimit": 2048000,
      "rowLimit": 10000
     },
     "inputWidgets": {},
     "nuid": "0f8ba029-9b85-412a-b533-6e4f97bae3e1",
     "showTitle": false,
     "tableResultSettingsMap": {},
     "title": ""
    }
   },
   "outputs": [],
   "source": [
    "# Cargamos las tablas base\n",
    "base_atributos = spark.table(\"esan_202504.clientes.base_atributos\")\n",
    "base_cliente = spark.table(\"esan_202504.clientes.base_cliente\")\n",
    "base_trx = spark.table(\"esan_202504.ventas.base_trx\")"
   ]
  },
  {
   "cell_type": "code",
   "execution_count": 0,
   "metadata": {
    "application/vnd.databricks.v1+cell": {
     "cellMetadata": {
      "byteLimit": 2048000,
      "rowLimit": 10000
     },
     "inputWidgets": {},
     "nuid": "ec833546-a365-4426-a71a-304a9d94f6e9",
     "showTitle": false,
     "tableResultSettingsMap": {},
     "title": ""
    }
   },
   "outputs": [],
   "source": [
    "# Realizamos los joins para consolidar la información\n",
    "join_1 = base_atributos.join(base_cliente, on=[\"periodo\", \"id_cliente\"], how=\"left\")\n",
    "tabla_consolidada = join_1.join(base_trx, on=[\"periodo\", \"id_cliente\"], how=\"left\")\n",
    "\n",
    "# Imputación de valores nulos en columnas categóricas\n",
    "tabla_consolidada = tabla_consolidada.fillna({\n",
    "    \"tipo_producto\": \"Desconocido\",\n",
    "    \"departamento\": \"Desconocido\",\n",
    "    \"canal\": \"Desconocido\"\n",
    "})\n",
    "\n",
    "# Imputación en columnas numéricas con la mediana\n",
    "numeric_cols = [\"monto_1m\", \"monto_2m\", \"monto_3m\", \"frecuencia_1m\", \"frecuencia_2m\", \"frecuencia_3m\"]\n",
    "for col_name in numeric_cols:\n",
    "    median_value = tabla_consolidada.approxQuantile(col_name, [0.5], 0.01)[0]\n",
    "    tabla_consolidada = tabla_consolidada.fillna({col_name: median_value})\n",
    "\n",
    "# Creación de nuevas características\n",
    "tabla_consolidada = tabla_consolidada.withColumn(\n",
    "    \"monto_total\",\n",
    "    expr(\"monto_1m + monto_2m + monto_3m + monto_4m + monto_5m + monto_6m\")\n",
    ")\n",
    "tabla_consolidada = tabla_consolidada.withColumn(\n",
    "    \"tendencia_monto\",\n",
    "    expr(\"(monto_1m - monto_6m) / monto_6m\")\n",
    ")\n",
    "\n",
    "# Otros ajustes en la data\n",
    "tabla_consolidada = tabla_consolidada.drop('__index_level_0__')\n",
    "tabla_consolidada = tabla_consolidada.filter(col(\"flg_churn\").isNotNull())\n",
    "\n",
    "columnas_cero = [\"incidencias_a\", \"incidencias_b\", \"crossell\", \"ultima_compra_2m\", \"ultima_compra_3m\"]\n",
    "tabla_consolidada = tabla_consolidada.fillna({col: 0 for col in columnas_cero})\n",
    "\n",
    "periodo_minimo = tabla_consolidada.select(min(\"periodo\")).collect()[0][0]\n",
    "tabla_consolidada = tabla_consolidada.fillna({\"periodo_creacion\": periodo_minimo})\n",
    "\n",
    "columnas_menos_uno = [\"segmento_pago\", \"segmento_cliente\"]\n",
    "tabla_consolidada = tabla_consolidada.fillna({col: -1 for col in columnas_menos_uno})\n",
    "\n",
    "tasa_media = tabla_consolidada.select(mean(\"tasa\")).collect()[0][0]\n",
    "tabla_consolidada = tabla_consolidada.fillna({\"tasa\": tasa_media})"
   ]
  },
  {
   "cell_type": "code",
   "execution_count": 0,
   "metadata": {
    "application/vnd.databricks.v1+cell": {
     "cellMetadata": {
      "byteLimit": 2048000,
      "rowLimit": 10000
     },
     "inputWidgets": {},
     "nuid": "8fbe5a71-60a8-49e2-a5c3-1b84850e0349",
     "showTitle": false,
     "tableResultSettingsMap": {},
     "title": ""
    }
   },
   "outputs": [],
   "source": [
    "periodo_max =tabla_consolidada.agg(max(\"periodo\")).collect()[0][0]\n",
    "tabla_consolidada_mensual = tabla_consolidada.filter(tabla_consolidada.periodo == periodo_max)"
   ]
  },
  {
   "cell_type": "code",
   "execution_count": 0,
   "metadata": {
    "application/vnd.databricks.v1+cell": {
     "cellMetadata": {
      "byteLimit": 2048000,
      "rowLimit": 10000
     },
     "inputWidgets": {},
     "nuid": "146b9e4c-539c-4549-be40-0282831e45e1",
     "showTitle": false,
     "tableResultSettingsMap": {},
     "title": ""
    }
   },
   "outputs": [],
   "source": [
    "spark.sql(\"DROP TABLE IF EXISTS esan.ventas.base_consolidada PURGE\")\n"
   ]
  },
  {
   "cell_type": "code",
   "execution_count": 0,
   "metadata": {
    "application/vnd.databricks.v1+cell": {
     "cellMetadata": {
      "byteLimit": 2048000,
      "implicitDf": true,
      "rowLimit": 10000
     },
     "inputWidgets": {},
     "nuid": "1a45eea7-366c-46e1-ac39-3acedf28fc2a",
     "showTitle": false,
     "tableResultSettingsMap": {},
     "title": ""
    }
   },
   "outputs": [],
   "source": [
    "%sql\n",
    "CREATE TABLE esan_202504.ventas.base_consolidada (\n",
    "    periodo BIGINT,\n",
    "    id_cliente BIGINT,\n",
    "    tiempo_permanencia BIGINT,\n",
    "    flg_vip DOUBLE,\n",
    "    incidencias_a DOUBLE NOT NULL,\n",
    "    incidencias_b DOUBLE NOT NULL,\n",
    "    tipo_producto STRING NOT NULL,\n",
    "    periodo_creacion BIGINT NOT NULL,\n",
    "    departamento STRING NOT NULL,\n",
    "    segmento_pago BIGINT NOT NULL,\n",
    "    canal STRING NOT NULL,\n",
    "    segmento_cliente BIGINT NOT NULL,\n",
    "    crossell DOUBLE NOT NULL,\n",
    "    tasa DOUBLE NOT NULL,\n",
    "    monto_1m DOUBLE NOT NULL,\n",
    "    monto_2m DOUBLE NOT NULL,\n",
    "    monto_3m DOUBLE NOT NULL,\n",
    "    monto_4m DOUBLE,\n",
    "    monto_5m DOUBLE,\n",
    "    monto_6m DOUBLE,\n",
    "    cantidad_1m DOUBLE,\n",
    "    cantidad_2m DOUBLE,\n",
    "    cantidad_3m DOUBLE,\n",
    "    cantidad_6m DOUBLE,\n",
    "    frecuencia_1m DOUBLE NOT NULL,\n",
    "    frecuencia_2m DOUBLE NOT NULL,\n",
    "    frecuencia_3m DOUBLE NOT NULL,\n",
    "    ultima_compra_1m DOUBLE,\n",
    "    ultima_compra_2m DOUBLE NOT NULL,\n",
    "    ultima_compra_3m DOUBLE NOT NULL,\n",
    "    flg_churn DOUBLE,\n",
    "    monto_total DOUBLE,\n",
    "    tendencia_monto DOUBLE\n",
    ")\n",
    "USING DELTA;\n"
   ]
  },
  {
   "cell_type": "code",
   "execution_count": 0,
   "metadata": {
    "application/vnd.databricks.v1+cell": {
     "cellMetadata": {
      "byteLimit": 2048000,
      "rowLimit": 10000
     },
     "inputWidgets": {},
     "nuid": "2fcba200-d7ae-46d7-9a0d-8461ac2cef63",
     "showTitle": false,
     "tableResultSettingsMap": {},
     "title": ""
    }
   },
   "outputs": [],
   "source": [
    "# Guardamos la tabla consolidada en Unity Catalog para persistencia\n",
    "tabla_consolidada.write.format(\"delta\") \\\n",
    "    .mode(\"overwrite\") \\\n",
    "    .saveAsTable(\"esan_202504.ventas.base_consolidada\")"
   ]
  },
  {
   "cell_type": "code",
   "execution_count": 0,
   "metadata": {
    "application/vnd.databricks.v1+cell": {
     "cellMetadata": {},
     "inputWidgets": {},
     "nuid": "495b7e8b-77e3-407a-91b1-cdd48695a4dd",
     "showTitle": false,
     "tableResultSettingsMap": {},
     "title": ""
    }
   },
   "outputs": [],
   "source": []
  }
 ],
 "metadata": {
  "application/vnd.databricks.v1+notebook": {
   "computePreferences": null,
   "dashboards": [],
   "environmentMetadata": {
    "base_environment": "",
    "environment_version": "3"
   },
   "inputWidgetPreferences": null,
   "language": "python",
   "notebookMetadata": {
    "mostRecentlyExecutedCommandWithImplicitDF": {
     "commandId": 5042323990180766,
     "dataframes": [
      "_sqldf"
     ]
    },
    "pythonIndentUnit": 4
   },
   "notebookName": "modelOps1",
   "widgets": {}
  },
  "language_info": {
   "name": "python"
  }
 },
 "nbformat": 4,
 "nbformat_minor": 0
}
