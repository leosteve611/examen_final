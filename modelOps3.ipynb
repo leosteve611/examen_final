{
 "cells": [
  {
   "cell_type": "code",
   "execution_count": 0,
   "metadata": {
    "application/vnd.databricks.v1+cell": {
     "cellMetadata": {
      "byteLimit": 2048000,
      "rowLimit": 10000
     },
     "inputWidgets": {},
     "nuid": "fe2a7198-3efd-461e-8d48-3cf7025eb5b1",
     "showTitle": false,
     "tableResultSettingsMap": {},
     "title": ""
    }
   },
   "outputs": [],
   "source": [
    "# -----------------------------------------------------------\n",
    "# 4. Entrenamiento simple del modelo\n",
    "# -----------------------------------------------------------\n",
    "import mlflow.sklearn\n",
    "from sklearn.model_selection import train_test_split\n",
    "from sklearn.ensemble import RandomForestClassifier\n",
    "from sklearn.metrics import f1_score, accuracy_score, classification_report"
   ]
  },
  {
   "cell_type": "code",
   "execution_count": 0,
   "metadata": {
    "application/vnd.databricks.v1+cell": {
     "cellMetadata": {
      "byteLimit": 2048000,
      "rowLimit": 10000
     },
     "inputWidgets": {},
     "nuid": "9cb2ecda-e51c-4c49-a448-2b976ea7aff4",
     "showTitle": false,
     "tableResultSettingsMap": {},
     "title": ""
    }
   },
   "outputs": [],
   "source": [
    "from mlflow.models import infer_signature"
   ]
  },
  {
   "cell_type": "code",
   "execution_count": 0,
   "metadata": {
    "application/vnd.databricks.v1+cell": {
     "cellMetadata": {
      "byteLimit": 2048000,
      "rowLimit": 10000
     },
     "inputWidgets": {},
     "nuid": "4f647ebe-8251-4d5b-b53f-5873226dbac6",
     "showTitle": false,
     "tableResultSettingsMap": {},
     "title": ""
    }
   },
   "outputs": [],
   "source": [
    "\n",
    "# =========================================================\n",
    "# 0) Base mensual consolidada\n",
    "# =========================================================\n",
    "features_final = spark.table(\"esan.ventas.dataset_entrenamiento\")"
   ]
  },
  {
   "cell_type": "code",
   "execution_count": 0,
   "metadata": {
    "application/vnd.databricks.v1+cell": {
     "cellMetadata": {
      "byteLimit": 2048000,
      "rowLimit": 10000
     },
     "inputWidgets": {},
     "nuid": "ea5fe059-5e0a-45d3-baa6-b4b4e974e8bd",
     "showTitle": false,
     "tableResultSettingsMap": {},
     "title": ""
    }
   },
   "outputs": [],
   "source": [
    "# Convertimos a Pandas para usar con scikit-learn\n",
    "features_pd = features_final.toPandas()\n",
    "\n",
    "# Definimos las features (columnas) y el target para el modelo\n",
    "feature_list = [\n",
    "    'frecuencia_1m', 'cantidad_1m', 'tasa', 'ultima_compra_1m', 'monto_total', \n",
    "    'avg_monto', 'max_monto'\n",
    "]\n",
    "X = features_pd[feature_list]\n",
    "y = features_pd[\"flg_churn\"]"
   ]
  },
  {
   "cell_type": "code",
   "execution_count": 0,
   "metadata": {
    "application/vnd.databricks.v1+cell": {
     "cellMetadata": {
      "byteLimit": 2048000,
      "rowLimit": 10000
     },
     "inputWidgets": {},
     "nuid": "01f6a789-73e5-40be-9292-3b25071aa4c5",
     "showTitle": false,
     "tableResultSettingsMap": {},
     "title": ""
    }
   },
   "outputs": [],
   "source": [
    "# Dividimos la data en conjuntos de entrenamiento y prueba\n",
    "X_train, X_test, y_train, y_test = train_test_split(X, y, test_size=0.2, random_state=42, stratify=y)"
   ]
  },
  {
   "cell_type": "code",
   "execution_count": 0,
   "metadata": {
    "application/vnd.databricks.v1+cell": {
     "cellMetadata": {
      "byteLimit": 2048000,
      "rowLimit": 10000
     },
     "inputWidgets": {},
     "nuid": "891fe126-3593-4780-a81a-7bd3b2e104c8",
     "showTitle": false,
     "tableResultSettingsMap": {},
     "title": ""
    }
   },
   "outputs": [],
   "source": [
    "with mlflow.start_run():\n",
    "    # Creamos y entrenamos un modelo simple (Random Forest)\n",
    "    model_train = RandomForestClassifier(n_estimators=100, max_depth=10, random_state=42, class_weight=\"balanced\")\n",
    "    model_train.fit(X_train, y_train)\n",
    "    \n",
    "    # Realizamos predicciones en el conjunto de prueba\n",
    "    y_pred_train = model_train.predict(X_test)\n",
    "    \n",
    "    signature = infer_signature(X_test, y_test)  # Inferimos la firma con datos de prueba y predicciones\n",
    "\n",
    "    # Calculamos métricas de desempeño\n",
    "    f1 = f1_score(y_test, y_pred_train)\n",
    "    accuracy = accuracy_score(y_test, y_pred_train)\n",
    "    print(f\"F1 Score (entrenamiento): {f1:.4f}\")\n",
    "    print(f\"Accuracy (entrenamiento): {accuracy:.4f}\")\n",
    "    print(\"Reporte de clasificación (entrenamiento):\\n\", classification_report(y_test, y_pred_train))\n",
    "    \n",
    "    # Registramos parámetros y el modelo en MLflow\n",
    "    mlflow.log_param(\"n_estimators\", 100)\n",
    "    mlflow.log_param(\"max_depth\", 10)\n",
    "    mlflow.log_metric(\"f1_score\", f1)\n",
    "    mlflow.log_metric(\"accuracy\", accuracy)\n",
    "    #mlflow.sklearn.log_model(model_train, \"modelo_simple\")\n",
    "\n",
    "    mlflow.sklearn.log_model(\n",
    "        sk_model=model_train,\n",
    "        artifact_path=\"modelo_simple\",\n",
    "        signature=signature,  # Agregamos la firma aquí\n",
    "        input_example=X_test.iloc[:5]  # Opcional pero recomendable para referencia\n",
    "    )\n",
    "    # Opcional: registrar el modelo en el Model Registry\n",
    "mlflow.end_run()"
   ]
  },
  {
   "cell_type": "code",
   "execution_count": 0,
   "metadata": {
    "application/vnd.databricks.v1+cell": {
     "cellMetadata": {},
     "inputWidgets": {},
     "nuid": "f882107e-b255-450a-b67c-6c3bba75fa4a",
     "showTitle": false,
     "tableResultSettingsMap": {},
     "title": ""
    }
   },
   "outputs": [],
   "source": []
  }
 ],
 "metadata": {
  "application/vnd.databricks.v1+notebook": {
   "computePreferences": null,
   "dashboards": [],
   "environmentMetadata": {
    "base_environment": "",
    "environment_version": "3"
   },
   "inputWidgetPreferences": null,
   "language": "python",
   "notebookMetadata": {
    "pythonIndentUnit": 4
   },
   "notebookName": "modelOps3",
   "widgets": {}
  },
  "language_info": {
   "name": "python"
  }
 },
 "nbformat": 4,
 "nbformat_minor": 0
}
