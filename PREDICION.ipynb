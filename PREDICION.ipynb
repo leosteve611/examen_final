{
 "cells": [
  {
   "cell_type": "code",
   "execution_count": 0,
   "metadata": {
    "application/vnd.databricks.v1+cell": {
     "cellMetadata": {
      "byteLimit": 2048000,
      "rowLimit": 10000
     },
     "inputWidgets": {},
     "nuid": "bb808e1d-ffaa-4b69-bb44-c8cf85e09d84",
     "showTitle": false,
     "tableResultSettingsMap": {},
     "title": ""
    }
   },
   "outputs": [],
   "source": [
    "%pip install xgboost\n",
    "import pandas as pd\n",
    "import numpy as np\n",
    "from datetime import datetime\n",
    "from sklearn.model_selection import train_test_split\n",
    "from sklearn.ensemble import RandomForestClassifier\n",
    "from sklearn.metrics import confusion_matrix, accuracy_score, precision_score, recall_score, f1_score\n",
    "import xgboost as xgb\n",
    "import warnings\n",
    "\n",
    "warnings.filterwarnings('ignore')\n",
    "\n",
    "#==============================================================================\n",
    "# CARGAR Y PROCESAR EL PRIMER ARCHIVO (DATOS DE ENTRENAMIENTO)\n",
    "#==============================================================================\n",
    "\n",
    "# --- Cargar archivo Excel ---\n",
    "# En Python, puedes especificar la ruta directamente. No hay un 'file.choose()' interactivo\n",
    "# de la misma manera que en R.\n",
    "ruta_excel_1 = \"C:\\\\Users\\\\ramos\\\\Descargas\\\\tarea\\\\produccion-2024-2.csv\"\n",
    "datos10 = pd.read_excel(ruta_excel_1, sheet_name='train2024-2')\n"
   ]
  },
  {
   "cell_type": "code",
   "execution_count": 0,
   "metadata": {
    "application/vnd.databricks.v1+cell": {
     "cellMetadata": {},
     "inputWidgets": {},
     "nuid": "9d006a45-9ebe-49d1-9a34-10f6ab66666a",
     "showTitle": false,
     "tableResultSettingsMap": {},
     "title": ""
    }
   },
   "outputs": [],
   "source": [
    "# --- Exploración inicial de datos ---\n",
    "print(\"Dimensiones de datos10:\", datos10.shape)\n",
    "print(\"\\nColumnas de datos10:\", datos10.columns)\n"
   ]
  },
  {
   "cell_type": "code",
   "execution_count": 0,
   "metadata": {
    "application/vnd.databricks.v1+cell": {
     "cellMetadata": {},
     "inputWidgets": {},
     "nuid": "5b90ca3f-e983-4ba4-8d1c-0e69a4e356d5",
     "showTitle": false,
     "tableResultSettingsMap": {},
     "title": ""
    }
   },
   "outputs": [],
   "source": [
    "# Verificar datos faltantes en 'fecha_nacimiento'\n",
    "print(\"\\nValores nulos en 'fecha_nacimiento':\", datos10['fecha_nacimiento'].isnull().sum())\n"
   ]
  },
  {
   "cell_type": "code",
   "execution_count": 0,
   "metadata": {
    "application/vnd.databricks.v1+cell": {
     "cellMetadata": {},
     "inputWidgets": {},
     "nuid": "05b28fd0-4d55-45ab-af37-007efbe98dac",
     "showTitle": false,
     "tableResultSettingsMap": {},
     "title": ""
    }
   },
   "outputs": [],
   "source": [
    "datos1 = datos10.copy()\n",
    "print(\"\\nTipos de datos iniciales:\\n\", datos1.dtypes)"
   ]
  },
  {
   "cell_type": "code",
   "execution_count": 0,
   "metadata": {
    "application/vnd.databricks.v1+cell": {
     "cellMetadata": {},
     "inputWidgets": {},
     "nuid": "645ffd7e-18e9-4ef8-8ab0-904b7ce7e12e",
     "showTitle": false,
     "tableResultSettingsMap": {},
     "title": ""
    }
   },
   "outputs": [],
   "source": [
    "# --- Procesamiento de fechas y cálculo de edad ---\n",
    "datos1['fecha_nacimiento'] = pd.to_datetime(datos1['fecha_nacimiento'], format=\"%d/%m/%Y\")\n",
    "def calcular_edad(fecha_nacimiento, fecha_referencia):\n",
    "    edad = fecha_referencia.year - fecha_nacimiento.year - ((fecha_referencia.month, fecha_referencia.day) < (fecha_nacimiento.month, fecha_nacimiento.day))\n",
    "    return edad"
   ]
  },
  {
   "cell_type": "code",
   "execution_count": 0,
   "metadata": {
    "application/vnd.databricks.v1+cell": {
     "cellMetadata": {},
     "inputWidgets": {},
     "nuid": "af4b94ae-8164-47b1-a2ce-f6680201c5d6",
     "showTitle": false,
     "tableResultSettingsMap": {},
     "title": ""
    }
   },
   "outputs": [],
   "source": [
    "fecha_de_corte_1 = pd.to_datetime(\"2023-08-01\")\n",
    "datos1['edad'] = datos1['fecha_nacimiento'].apply(lambda x: calcular_edad(x, fecha_de_corte_1))\n"
   ]
  },
  {
   "cell_type": "code",
   "execution_count": 0,
   "metadata": {
    "application/vnd.databricks.v1+cell": {
     "cellMetadata": {},
     "inputWidgets": {},
     "nuid": "4d6fc38b-00e2-49af-95fa-ca3d08cef4f6",
     "showTitle": false,
     "tableResultSettingsMap": {},
     "title": ""
    }
   },
   "outputs": [],
   "source": [
    "# --- Conversión y recodificación de variables categóricas ---\n",
    "datos1['TIPO_ASIGNATURA'] = datos1['TIPO_ASIGNATURA'].astype('category')\n",
    "datos1.rename(columns={'STATUS': 'condicion_final'}, inplace=True)\n",
    "datos1['condicion_final'] = datos1['condicion_final'].astype('category')"
   ]
  },
  {
   "cell_type": "code",
   "execution_count": 0,
   "metadata": {
    "application/vnd.databricks.v1+cell": {
     "cellMetadata": {},
     "inputWidgets": {},
     "nuid": "ffbf9a7e-1967-4b2a-aae9-8b281a387ba7",
     "showTitle": false,
     "tableResultSettingsMap": {},
     "title": ""
    }
   },
   "outputs": [],
   "source": [
    "# Recodificar 'PROGRAMA'\n",
    "datos1['PROGRAMA'] = datos1['PROGRAMA'].astype('category')\n",
    "datos1['PROGRAMA'] = datos1['PROGRAMA'].cat.rename_categories({\n",
    "    \"ADMINISTRACIÓN Y NEGOCIOS DIGITALES\": \"ADMINISTRACIÓN Y MARKETING\",\n",
    "    \"CIENCIA DE LA COMPUTACIÓN\": \"INGENIERÍA DE SISTEMAS E INFORMÁTICA\",\n",
    "    \"EDUCACIÓN CON ESPECIALIDAD EN INNOVACIÓN Y APRENDIZAJE DIGITAL\": \"CIENCIAS Y TECNOLOGÍAS DE LA COMUNICACIÓN\",\n",
    "    \"INGENIERÍA ELECTRÓNICA\": \"INGENIERÍA ELÉCTRICA\"\n",
    "})\n"
   ]
  },
  {
   "cell_type": "code",
   "execution_count": 0,
   "metadata": {
    "application/vnd.databricks.v1+cell": {
     "cellMetadata": {},
     "inputWidgets": {},
     "nuid": "5188c9e6-79c2-4818-9e0d-2ecbc0a144cd",
     "showTitle": false,
     "tableResultSettingsMap": {},
     "title": ""
    }
   },
   "outputs": [],
   "source": [
    "# Recodificar 'CAMPUS'\n",
    "datos1['CAMPUS'] = pd.Categorical(datos1['CAMPUS'],\n",
    "                                  categories=[\"FILIAL AREQUIPA\", \"FILIAL CUSCO\", \"FILIAL LIMA\", \"SEDE HUANCAYO\", \"VIRTUAL\"],\n",
    "                                  ordered=False).rename_categories([\"AREQUIPA\", \"CUSCO\", \"LIMA\", \"HUANCAYO\", \"VIRTUAL\"])\n",
    "\n",
    "# Recodificar 'MODALIDAD'"
   ]
  },
  {
   "cell_type": "code",
   "execution_count": 0,
   "metadata": {
    "application/vnd.databricks.v1+cell": {
     "cellMetadata": {},
     "inputWidgets": {},
     "nuid": "a3ba7757-105e-44a6-baac-f07356c6678a",
     "showTitle": false,
     "tableResultSettingsMap": {},
     "title": ""
    }
   },
   "outputs": [],
   "source": [
    "# Recodificar 'MODALIDAD'\n",
    "datos1['MODALIDAD'] = pd.Categorical(datos1['MODALIDAD'],\n",
    "                                     categories=[\"UC-A DISTANCIA\", \"UC-PRESENCIAL\", \"UC-SEMIPRESENCIAL\"],\n",
    "                                     ordered=False).rename_categories([\"DISTANCIA\", \"PRESENCIAL\", \"SEMIPRESENCIAL\"])"
   ]
  },
  {
   "cell_type": "code",
   "execution_count": 0,
   "metadata": {
    "application/vnd.databricks.v1+cell": {
     "cellMetadata": {},
     "inputWidgets": {},
     "nuid": "dfa83db3-7e65-459c-ab32-431b8c6bd20c",
     "showTitle": false,
     "tableResultSettingsMap": {},
     "title": ""
    }
   },
   "outputs": [],
   "source": [
    " --- Procesamiento de 'PERIODO_ADMISION' y 'CATALOGO' ---\n",
    "datos1['PERIODO_ADMISION'] = pd.to_numeric(datos1['PERIODO_ADMISION'].astype(str).str.slice(0, 5))\n",
    "datos1['PERIODO_ADMISION'] = np.where(datos1['PERIODO_ADMISION'] % 10 <= 1,\n",
    "                                      datos1['PERIODO_ADMISION'] // 10,\n",
    "                                      datos1['PERIODO_ADMISION'] // 10 + 0.5)\n",
    "datos1['PERIODO_ADMISION'] = 2023.5 - datos1['PERIODO_ADMISION']\n",
    "\n",
    "datos1['CATALOGO'] = pd.to_numeric(datos1['CATALOGO'].astype(str).str.slice(0, 4))\n",
    "datos1['CATALOGO'] = np.select(\n",
    "    [datos1['CATALOGO'] <= 2016, datos1['CATALOGO'] <= 2020],\n",
    "    ['Malla antigua', 'Malla intermedia'],\n",
    "    default='Malla actual'\n",
    ")\n"
   ]
  },
  {
   "cell_type": "code",
   "execution_count": 0,
   "metadata": {
    "application/vnd.databricks.v1+cell": {
     "cellMetadata": {},
     "inputWidgets": {},
     "nuid": "d38ed95c-c643-4186-96ef-88d4d28da6b0",
     "showTitle": false,
     "tableResultSettingsMap": {},
     "title": ""
    }
   },
   "outputs": [],
   "source": [
    "# --- Selección de variables y conversión de tipos ---\n",
    "columnas_a_eliminar_1 = [datos1.columns[i] for i in [0,1,8,9,11,12,13,14,16,28]]\n",
    "datos1 = datos1.drop(columns=columnas_a_eliminar_1)\n",
    "\n",
    "for col in datos1.select_dtypes(include=['object']).columns:\n",
    "    datos1[col] = datos1[col].astype('category')\n",
    "\n",
    "print(\"\\nColumnas finales de datos1:\", datos1.columns)\n",
    "print(\"\\nTipos de datos finales de datos1:\\n\", datos1.dtypes)"
   ]
  },
  {
   "cell_type": "code",
   "execution_count": 0,
   "metadata": {
    "application/vnd.databricks.v1+cell": {
     "cellMetadata": {},
     "inputWidgets": {},
     "nuid": "1943efeb-b3fa-4740-b537-237a7358d2a3",
     "showTitle": false,
     "tableResultSettingsMap": {},
     "title": ""
    }
   },
   "outputs": [],
   "source": [
    "#==============================================================================\n",
    "# CARGAR Y PROCESAR EL SEGUNDO ARCHIVO (DATOS DE PRODUCCIÓN)\n",
    "#==============================================================================\n",
    "\n",
    "ruta_excel_2 = \"C:\\\\Users\\\\Sandro28\\\\Desktop\\\\U.Continental2023\\\\ASIGNATURAS CRITICAS\\\\PROYECTO ENTREGABLE\\\\2023-2 para 2024-2\\\\produccion 2024-2.xlsx\"\n",
    "datos20 = pd.read_excel(ruta_excel_2, sheet_name='produccion24-2')\n",
    "\n",
    "datos2 = datos20.copy()\n",
    "\n",
    "# --- Procesamiento de fechas y cálculo de edad ---\n",
    "datos2['fecha_nacimiento'] = pd.to_datetime(datos2['fecha_nacimiento'], format=\"%d/%m/%Y\")\n",
    "fecha_de_corte_2 = pd.to_datetime(\"2024-08-01\")\n",
    "datos2['edad'] = datos2['fecha_nacimiento'].apply(lambda x: calcular_edad(x, fecha_de_corte_2))\n",
    "\n",
    "# --- Recodificación de variables ---\n",
    "datos2['TIPO_ASIGNATURA'] = datos2['TIPO_ASIGNATURA'].astype('category')\n",
    "datos2['TIPO_ASIGNATURA'] = datos2['TIPO_ASIGNATURA'].cat.rename_categories({\n",
    "    \"General Ciencias\": \"General - Ciencias\",\n",
    "    \"Transversal Ciencias\": \"General - Ciencias\",\n",
    "    \"General Humanidades\": \"General - Humanidades\",\n",
    "    \"Transversal Ciencias de Salud\": \"Facultad - Ciencias Salud\",\n",
    "    \"Transversal Ciencias Empresa\": \"Facultad - Ciencias Empresa\",\n",
    "    \"Transversal Humanidades\": \"Facultad - Humanidades\",\n",
    "    \"Transversal Ingeniería\": \"Facultad - Ingeniería\"\n",
    "})\n",
    "\n",
    "datos2['PROGRAMA'] = datos2['PROGRAMA'].astype('category')\n",
    "datos2['PROGRAMA'] = datos2['PROGRAMA'].cat.rename_categories({\n",
    "    \"ADMINISTRACIÓN Y NEGOCIOS DIGITALES\": \"ADMINISTRACIÓN Y MARKETING\",\n",
    "    \"CIENCIA DE LA COMPUTACIÓN\": \"INGENIERÍA DE SISTEMAS E INFORMÁTICA\",\n",
    "    \"EDUCACIÓN CON ESPECIALIDAD EN INNOVACIÓN Y APRENDIZAJE DIGITAL\": \"CIENCIAS Y TECNOLOGÍAS DE LA COMUNICACIÓN\"\n",
    "})\n",
    "\n",
    "datos2['CAMPUS'] = pd.Categorical(datos2['CAMPUS'],\n",
    "                                  categories=[\"FILIAL AREQUIPA\", \"FILIAL CUSCO\", \"FILIAL LIMA\", \"SEDE HUANCAYO\", \"VIRTUAL\"],\n",
    "                                  ordered=False).rename_categories([\"AREQUIPA\", \"CUSCO\", \"LIMA\", \"HUANCAYO\", \"VIRTUAL\"])\n",
    "\n",
    "datos2['MODALIDAD'] = pd.Categorical(datos2['MODALIDAD'],\n",
    "                                     categories=[\"UC-A DISTANCIA\", \"UC-PRESENCIAL\", \"UC-SEMIPRESENCIAL\"],\n",
    "                                     ordered=False).rename_categories([\"DISTANCIA\", \"PRESENCIAL\", \"SEMIPRESENCIAL\"])\n",
    "\n",
    "# --- Procesamiento de 'PERIODO_ADMISION' y 'CATALOGO' ---\n",
    "datos2['PERIODO_ADMISION'] = pd.to_numeric(datos2['PERIODO_ADMISION'].astype(str).str.slice(0, 5))\n",
    "datos2['PERIODO_ADMISION'] = np.where(datos2['PERIODO_ADMISION'] % 10 <= 1,\n",
    "                                      datos2['PERIODO_ADMISION'] // 10,\n",
    "                                      datos2['PERIODO_ADMISION'] // 10 + 0.5)\n",
    "datos2['PERIODO_ADMISION'] = 2024.5 - datos2['PERIODO_ADMISION']\n",
    "\n",
    "datos2['CATALOGO'] = pd.to_numeric(datos2['CATALOGO'].astype(str).str.slice(0, 4))\n",
    "datos2['CATALOGO'] = np.select(\n",
    "    [datos2['CATALOGO'] <= 2016, datos2['CATALOGO'] <= 2020],\n",
    "    ['Malla antigua', 'Malla intermedia'],\n",
    "    default='Malla actual'\n",
    ")"
   ]
  },
  {
   "cell_type": "code",
   "execution_count": 0,
   "metadata": {
    "application/vnd.databricks.v1+cell": {
     "cellMetadata": {},
     "inputWidgets": {},
     "nuid": "be8d3e1c-1823-47e8-b694-08c2c3ecbf8f",
     "showTitle": false,
     "tableResultSettingsMap": {},
     "title": ""
    }
   },
   "outputs": [],
   "source": [
    "# --- Selección de variables y conversión de tipos ---\n",
    "columnas_a_eliminar_2 = [datos2.columns[i] for i in [0,1,8,9,11,12,13,14,16,26]]\n",
    "datos2 = datos2.drop(columns=columnas_a_eliminar_2)\n",
    "\n",
    "for col in datos2.select_dtypes(include=['object']).columns:\n",
    "    datos2[col] = datos2[col].astype('category')\n",
    "\n",
    "print(\"\\nColumnas finales de datos2:\", datos2.columns)\n"
   ]
  },
  {
   "cell_type": "code",
   "execution_count": 0,
   "metadata": {
    "application/vnd.databricks.v1+cell": {
     "cellMetadata": {},
     "inputWidgets": {},
     "nuid": "e0e7b9ac-8387-4fc3-baab-08b495a7b31e",
     "showTitle": false,
     "tableResultSettingsMap": {},
     "title": ""
    }
   },
   "outputs": [],
   "source": [
    "#==============================================================================\n",
    "# PREPARACIÓN DE DATOS PARA EL MODELO\n",
    "#==============================================================================\n",
    "\n",
    "# --- División en entrenamiento y prueba ---\n",
    "X = datos1.drop('condicion_final', axis=1)\n",
    "y = datos1['condicion_final']\n",
    "\n",
    "X_train, X_test, y_train, y_test = train_test_split(X, y, test_size=0.2, random_state=50, stratify=y)\n",
    "\n",
    "# Juntar para el submuestreo\n",
    "train1 = pd.concat([X_train, y_train], axis=1)\n",
    "test1 = pd.concat([X_test, y_test], axis=1)\n",
    "\n",
    "# --- Balanceo de datos (Undersampling) ---\n",
    "condicion_yes = train1[train1['condicion_final'] == 0]\n",
    "condicion_no = train1[train1['condicion_final'] == 1]\n",
    "\n",
    "# Submuestreo de la clase mayoritaria\n",
    "condicion_no_downsampled = condicion_no.sample(n=int(len(condicion_yes) * 1.65), random_state=50)\n",
    "\n",
    "# Combinar y barajar\n",
    "condicion_down = pd.concat([condicion_no_downsampled, condicion_yes]).sample(frac=1, random_state=50).reset_index(drop=True)\n",
    "\n",
    "print(\"\\nDistribución de clases después del submuestreo:\")\n",
    "print(condicion_down['condicion_final'].value_counts())"
   ]
  },
  {
   "cell_type": "code",
   "execution_count": 0,
   "metadata": {
    "application/vnd.databricks.v1+cell": {
     "cellMetadata": {},
     "inputWidgets": {},
     "nuid": "ad4f5b7b-37d4-4113-9f29-d2395f4f1ff5",
     "showTitle": false,
     "tableResultSettingsMap": {},
     "title": ""
    }
   },
   "outputs": [],
   "source": [
    "# --- Preparación final para los modelos ---\n",
    "# One-Hot Encoding para variables categóricas\n",
    "X_down = pd.get_dummies(condicion_down.drop('condicion_final', axis=1), drop_first=True)\n",
    "y_down = condicion_down['condicion_final']\n",
    "\n",
    "X_test_processed = pd.get_dummies(test1.drop('condicion_final', axis=1), drop_first=True)\n",
    "y_test_processed = test1['condicion_final']\n",
    "\n",
    "# Alinear columnas entre entrenamiento y prueba\n",
    "train_cols = X_down.columns\n",
    "test_cols = X_test_processed.columns\n",
    "missing_in_test = set(train_cols) - set(test_cols)\n",
    "for c in missing_in_test:\n",
    "    X_test_processed[c] = 0\n",
    "missing_in_train = set(test_cols) - set(train_cols)\n",
    "for c in missing_in_train:\n",
    "    X_down[c] = 0\n",
    "X_test_processed = X_test_processed[train_cols]"
   ]
  },
  {
   "cell_type": "code",
   "execution_count": 0,
   "metadata": {
    "application/vnd.databricks.v1+cell": {
     "cellMetadata": {},
     "inputWidgets": {},
     "nuid": "78c9078d-642f-4418-8a9d-d03ffdc227bc",
     "showTitle": false,
     "tableResultSettingsMap": {},
     "title": ""
    }
   },
   "outputs": [],
   "source": [
    "#==============================================================================\n",
    "# MODELO XGBOOST\n",
    "#==============================================================================\n",
    "print(\"\\n--- Entrenando modelo XGBoost ---\")\n",
    "\n",
    "# Convertir a DMatrix\n",
    "dtrain = xgb.DMatrix(X_down, label=y_down)\n",
    "dtest = xgb.DMatrix(X_test_processed, label=y_test_processed)\n",
    "\n",
    "# Parámetros del modelo\n",
    "params = {'objective': 'binary:logistic'}\n",
    "\n",
    "# Entrenamiento\n",
    "xgb_model = xgb.train(params=params,\n",
    "                      dtrain=dtrain,\n",
    "                      num_boost_round=200,\n",
    "                      verbose_eval=False)\n",
    "\n",
    "# Predicciones\n",
    "predicciones = xgb_model.predict(dtest)\n",
    "predicciones_binarias = (predicciones > 0.5).astype(int)\n",
    "\n",
    "# Matriz de confusión\n",
    "print(\"\\nMatriz de Confusión para XGBoost:\")\n",
    "print(confusion_matrix(y_test_processed, predicciones_binarias))\n",
    "\n",
    "\n",
    "#==============================================================================\n",
    "# MODELO RANDOM FOREST\n",
    "#==============================================================================\n",
    "print(\"\\n--- Entrenando modelo Random Forest ---\")\n",
    "\n",
    "# En scikit-learn, el manejo de NAs se debe hacer antes.\n",
    "# 'na.roughfix' se puede emular imputando con la mediana/media.\n",
    "# Como el preprocesamiento no mencionó NAs, asumimos que no hay.\n",
    "rf_model = RandomForestClassifier(n_estimators=100,\n",
    "                                  max_features=7,\n",
    "                                  random_state=50,\n",
    "                                  oob_score=True,\n",
    "                                  class_weight='balanced')\n",
    "\n",
    "rf_model.fit(X_down, y_down)\n",
    "\n",
    "print(\"\\nImportancia de las variables (Random Forest):\")\n",
    "importances = rf_model.feature_importances_\n",
    "feature_importance_df = pd.DataFrame({'feature': X_down.columns, 'importance': importances})\n",
    "print(feature_importance_df.sort_values(by='importance', ascending=False).head(10))\n",
    "\n",
    "# --- Predicción en el conjunto de prueba (test1) ---\n",
    "des_nbal_pred_RF_prob = rf_model.predict_proba(X_test_processed)[:, 1]\n",
    "des_nbal_pred_clase_RF = (des_nbal_pred_RF_prob >= 0.55).astype(int)\n",
    "\n",
    "print(\"\\nDistribución de las predicciones (Random Forest):\")\n",
    "print(pd.Series(des_nbal_pred_clase_RF).value_counts())\n",
    "\n",
    "print(\"\\nMatriz de Confusión para Random Forest (umbral 0.55):\")\n",
    "print(confusion_matrix(y_test_processed, des_nbal_pred_clase_RF))\n"
   ]
  },
  {
   "cell_type": "code",
   "execution_count": 0,
   "metadata": {
    "application/vnd.databricks.v1+cell": {
     "cellMetadata": {},
     "inputWidgets": {},
     "nuid": "1da8134f-30e6-448a-8b66-6b2126b5bfee",
     "showTitle": false,
     "tableResultSettingsMap": {},
     "title": ""
    }
   },
   "outputs": [],
   "source": [
    "# --- Búsqueda del mejor umbral ---\n",
    "def buscar_mejor_umbral(y_real, y_prob):\n",
    "    umbrales = np.arange(0.05, 1.0, 0.05)\n",
    "    metricas = []\n",
    "    for u in umbrales:\n",
    "        y_pred = (y_prob >= u).astype(int)\n",
    "        f1 = f1_score(y_real, y_pred, pos_label=0) # Asumiendo '0' como clase positiva\n",
    "        metricas.append({'umbral': u, 'f1_score': f1})\n",
    "    \n",
    "    metricas_df = pd.DataFrame(metricas)\n",
    "    mejor_umbral = metricas_df.loc[metricas_df['f1_score'].idxmax()]\n",
    "    return mejor_umbral, metricas_df\n",
    "\n",
    "mejor_umbral_info, umbrales_df = buscar_mejor_umbral(y_test_processed, des_nbal_pred_RF_prob)\n",
    "\n",
    "print(\"\\nBúsqueda de umbrales para Random Forest:\")\n",
    "print(umbrales_df)\n",
    "print(\"\\nMejor umbral encontrado:\")\n",
    "print(mejor_umbral_info)\n"
   ]
  },
  {
   "cell_type": "code",
   "execution_count": 0,
   "metadata": {
    "application/vnd.databricks.v1+cell": {
     "cellMetadata": {},
     "inputWidgets": {},
     "nuid": "8e282115-2f76-4573-abf7-7a12f694854d",
     "showTitle": false,
     "tableResultSettingsMap": {},
     "title": ""
    }
   },
   "outputs": [],
   "source": [
    "#==============================================================================\n",
    "# APLICAR MODELO A DATOS DE PRODUCCIÓN Y EXPORTAR\n",
    "#==============================================================================\n",
    "print(\"\\n--- Aplicando modelo a nuevos datos y exportando ---\")\n",
    "\n",
    "# Alinear columnas de datos2 para la predicción\n",
    "datos2_processed = pd.get_dummies(datos2, drop_first=True)\n",
    "train_cols = X_down.columns\n",
    "prod_cols = datos2_processed.columns\n",
    "\n",
    "missing_in_prod = set(train_cols) - set(prod_cols)\n",
    "for c in missing_in_prod:\n",
    "    datos2_processed[c] = 0\n",
    "\n",
    "missing_in_train = set(prod_cols) - set(train_cols)\n",
    "# Es importante eliminar columnas en producción que no estaban en entrenamiento\n",
    "datos2_processed = datos2_processed.drop(columns=list(missing_in_train))\n",
    "    \n",
    "datos2_processed = datos2_processed[train_cols]\n",
    "\n",
    "# Predicción en los nuevos datos (datos2)\n",
    "probabilidades_prod = rf_model.predict_proba(datos2_processed)[:, 1]\n",
    "\n",
    "# Usar el umbral fijo de 0.55 como en el código R\n",
    "recomendacion_prod = (probabilidades_prod >= 0.55).astype(int)\n",
    "\n",
    "# Añadir columnas al DataFrame original\n",
    "datos20['probabilidades'] = probabilidades_prod\n",
    "datos20['Recomendacion'] = recomendacion_prod"
   ]
  },
  {
   "cell_type": "code",
   "execution_count": 0,
   "metadata": {
    "application/vnd.databricks.v1+cell": {
     "cellMetadata": {},
     "inputWidgets": {},
     "nuid": "18211966-6b49-445a-95da-f6a211c67be4",
     "showTitle": false,
     "tableResultSettingsMap": {},
     "title": ""
    }
   },
   "outputs": [],
   "source": [
    "# --- Exportar resultados a Excel ---\n",
    "try:\n",
    "    datos20.to_excel(\"BIGDATA-FINAL-202420.xlsx\", index=False)\n",
    "    print(\"\\nResultados de producción exportados a 'BIGDATA-FINAL-202420.xlsx'\")\n",
    "except Exception as e:\n",
    "    print(f\"\\nError al exportar a Excel: {e}\")\n",
    "\n",
    "\n",
    "#==============================================================================\n",
    "# CREAR Y EXPORTAR TABLA RESUMEN\n",
    "#==============================================================================\n",
    "\n",
    "tabla_resumen = datos10.groupby('NOMBRE_ASIGNATURA').apply(\n",
    "    lambda x: pd.Series({\n",
    "        'aprobados': x['STATUS'].sum(),\n",
    "        'Total': len(x),\n",
    "        'porc_apro': (x['STATUS'].sum() / len(x)) * 100\n",
    "    })\n",
    ").reset_index()\n",
    "\n",
    "print(\"\\nTabla Resumen 2024:\")\n",
    "print(tabla_resumen)\n",
    "\n",
    "try:\n",
    "    tabla_resumen.to_excel(\"TABLA2024-1.xlsx\", index=False)\n",
    "    print(\"\\nTabla resumen exportada a 'TABLA2024-1.xlsx'\")\n",
    "except Exception as e:\n",
    "    print(f\"\\nError al exportar la tabla resumen: {e}\")\n"
   ]
  }
 ],
 "metadata": {
  "application/vnd.databricks.v1+notebook": {
   "computePreferences": null,
   "dashboards": [],
   "environmentMetadata": {
    "base_environment": "",
    "environment_version": "3"
   },
   "inputWidgetPreferences": null,
   "language": "python",
   "notebookMetadata": {
    "pythonIndentUnit": 4
   },
   "notebookName": "PREDICION",
   "widgets": {}
  },
  "language_info": {
   "name": "python"
  }
 },
 "nbformat": 4,
 "nbformat_minor": 0
}
