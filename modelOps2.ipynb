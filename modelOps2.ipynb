{
 "cells": [
  {
   "cell_type": "code",
   "execution_count": 0,
   "metadata": {
    "application/vnd.databricks.v1+cell": {
     "cellMetadata": {
      "byteLimit": 2048000,
      "rowLimit": 10000
     },
     "inputWidgets": {},
     "nuid": "30d3b659-76a0-4c5f-8315-8c572b446fee",
     "showTitle": false,
     "tableResultSettingsMap": {},
     "title": ""
    }
   },
   "outputs": [],
   "source": [
    "from pyspark.sql import functions as F, Window"
   ]
  },
  {
   "cell_type": "code",
   "execution_count": 0,
   "metadata": {
    "application/vnd.databricks.v1+cell": {
     "cellMetadata": {
      "byteLimit": 2048000,
      "rowLimit": 10000
     },
     "inputWidgets": {},
     "nuid": "5dc48077-0691-4dd1-82da-3f9f00667ce0",
     "showTitle": false,
     "tableResultSettingsMap": {},
     "title": ""
    }
   },
   "outputs": [],
   "source": [
    "\n",
    "# =========================================================\n",
    "# 0) Base mensual consolidada\n",
    "# =========================================================\n",
    "df_mensual = spark.table(\"esan_202504.ventas.base_consolidada\")"
   ]
  },
  {
   "cell_type": "code",
   "execution_count": 0,
   "metadata": {
    "application/vnd.databricks.v1+cell": {
     "cellMetadata": {
      "byteLimit": 2048000,
      "rowLimit": 10000
     },
     "inputWidgets": {},
     "nuid": "f25e94d4-40dc-4f2a-9049-6d0663edbb52",
     "showTitle": false,
     "tableResultSettingsMap": {},
     "title": ""
    }
   },
   "outputs": [],
   "source": [
    "# (Recomendado) Quedarnos con 1 fila por cliente: el periodo más reciente\n",
    "#   - Si 'periodo' es YYYYMM o fecha, esto ordena correctamente.\n",
    "w_latest = Window.partitionBy(\"id_cliente\").orderBy(F.col(\"periodo\").desc())\n",
    "df_mensual_latest = (df_mensual\n",
    "    .withColumn(\"rn\", F.row_number().over(w_latest))\n",
    "    .where(F.col(\"rn\") == 1)\n",
    "    .drop(\"rn\"))\n"
   ]
  },
  {
   "cell_type": "code",
   "execution_count": 0,
   "metadata": {
    "application/vnd.databricks.v1+cell": {
     "cellMetadata": {
      "byteLimit": 2048000,
      "rowLimit": 10000
     },
     "inputWidgets": {},
     "nuid": "a424905d-55dc-473e-bf87-2419cfa8ffe5",
     "showTitle": false,
     "tableResultSettingsMap": {},
     "title": ""
    }
   },
   "outputs": [],
   "source": [
    "# =========================================================\n",
    "# 1) Tabla 1: Features mensuales (conjunto principal)\n",
    "# =========================================================\n",
    "feature_columns_1 = [\n",
    "    'periodo','id_cliente','tiempo_permanencia','flg_vip','incidencias_a','incidencias_b',\n",
    "    'tipo_producto','periodo_creacion','departamento','segmento_pago','canal',\n",
    "    'segmento_cliente','crossell','tasa','monto_1m','monto_2m','monto_3m','monto_4m',\n",
    "    'monto_5m','monto_6m','cantidad_1m','cantidad_2m','cantidad_3m','cantidad_6m',\n",
    "    'frecuencia_1m','frecuencia_2m','frecuencia_3m','ultima_compra_1m','ultima_compra_2m',\n",
    "    'ultima_compra_3m','monto_total','tendencia_monto'\n",
    "]\n",
    "\n",
    "df_features_1 = (df_mensual_latest\n",
    "    .select(*feature_columns_1)\n",
    "    .dropDuplicates([\"id_cliente\"])  # asegura PK única (1 fila por cliente)\n",
    ")\n"
   ]
  },
  {
   "cell_type": "code",
   "execution_count": 0,
   "metadata": {
    "application/vnd.databricks.v1+cell": {
     "cellMetadata": {
      "byteLimit": 2048000,
      "rowLimit": 10000
     },
     "inputWidgets": {},
     "nuid": "f677543c-d16d-4755-913f-1e68b45cef9f",
     "showTitle": false,
     "tableResultSettingsMap": {},
     "title": ""
    }
   },
   "outputs": [],
   "source": [
    "# Escribir como tabla Delta (equivalente a fs.create_table + fs.write_table)\n",
    "(df_features_1\n",
    " .write\n",
    " .format(\"delta\")\n",
    " .mode(\"overwrite\")\n",
    " .option(\"overwriteSchema\",\"true\")\n",
    " .saveAsTable(\"esan_202504.ventas.base_consolidada_mensual_feats\"))"
   ]
  },
  {
   "cell_type": "code",
   "execution_count": 0,
   "metadata": {
    "application/vnd.databricks.v1+cell": {
     "cellMetadata": {
      "byteLimit": 2048000,
      "rowLimit": 10000
     },
     "inputWidgets": {},
     "nuid": "b62dbb44-6894-4688-a80d-251c91222424",
     "showTitle": false,
     "tableResultSettingsMap": {},
     "title": ""
    }
   },
   "outputs": [],
   "source": [
    "# =========================================================\n",
    "# 2) Tabla 2: Features históricos derivados (avg / max)\n",
    "# =========================================================\n",
    "df_historico = (df_mensual_latest\n",
    "    .withColumn(\"avg_monto\", (F.col(\"monto_1m\")+F.col(\"monto_2m\")+F.col(\"monto_3m\"))/3.0)\n",
    "    .withColumn(\"max_monto\", F.greatest(\"monto_1m\",\"monto_2m\",\"monto_3m\"))\n",
    ")\n",
    "\n",
    "df_features_2 = (df_historico\n",
    "    .select(\"id_cliente\",\"avg_monto\",\"max_monto\")\n",
    "    .dropDuplicates([\"id_cliente\"])\n",
    ")"
   ]
  },
  {
   "cell_type": "code",
   "execution_count": 0,
   "metadata": {
    "application/vnd.databricks.v1+cell": {
     "cellMetadata": {
      "byteLimit": 2048000,
      "rowLimit": 10000
     },
     "inputWidgets": {},
     "nuid": "860a96b4-f6dc-4857-91b4-fbcb22b15c77",
     "showTitle": false,
     "tableResultSettingsMap": {},
     "title": ""
    }
   },
   "outputs": [],
   "source": [
    "\n",
    "(df_features_2\n",
    " .write\n",
    " .format(\"delta\")\n",
    " .mode(\"overwrite\")\n",
    " .option(\"overwriteSchema\",\"true\")\n",
    " .saveAsTable(\"esan_202504.ventas.historico_feats\"))"
   ]
  },
  {
   "cell_type": "code",
   "execution_count": 0,
   "metadata": {
    "application/vnd.databricks.v1+cell": {
     "cellMetadata": {
      "byteLimit": 2048000,
      "rowLimit": 10000
     },
     "inputWidgets": {},
     "nuid": "3265cb84-bbf0-48ef-b908-15a7d9666a1c",
     "showTitle": false,
     "tableResultSettingsMap": {},
     "title": ""
    }
   },
   "outputs": [],
   "source": [
    "# =========================================================\n",
    "# 3) Join de tablas de features y armado del set final\n",
    "# =========================================================\n",
    "features_df1 = spark.table(\"esan_202504.ventas.base_consolidada_mensual_feats\")\n",
    "features_df2 = spark.table(\"esan_202504.ventas.historico_feats\")\n"
   ]
  },
  {
   "cell_type": "code",
   "execution_count": 0,
   "metadata": {
    "application/vnd.databricks.v1+cell": {
     "cellMetadata": {
      "byteLimit": 2048000,
      "rowLimit": 10000
     },
     "inputWidgets": {},
     "nuid": "626484c9-30c8-4915-8f4f-12cacc22c46c",
     "showTitle": false,
     "tableResultSettingsMap": {},
     "title": ""
    }
   },
   "outputs": [],
   "source": [
    "features_joined = features_df1.join(features_df2, on=\"id_cliente\", how=\"inner\")\n",
    "\n",
    "# Target:\n",
    "#  - Si 'flg_churn' es a nivel cliente (estable), alcanza con id_cliente.\n",
    "#  - Si 'flg_churn' es por periodo, añade 'periodo' al join (ver variante abajo).\n",
    "target_df = (df_mensual_latest\n",
    "    .select(\"id_cliente\", \"flg_churn\")\n",
    "    .dropDuplicates([\"id_cliente\"])\n",
    ")\n",
    "\n",
    "features_final = features_joined.join(target_df, on=\"id_cliente\", how=\"inner\")"
   ]
  },
  {
   "cell_type": "code",
   "execution_count": 0,
   "metadata": {
    "application/vnd.databricks.v1+cell": {
     "cellMetadata": {
      "byteLimit": 2048000,
      "rowLimit": 10000
     },
     "inputWidgets": {},
     "nuid": "6b07fccd-999b-49b6-86e7-33ad478a64a9",
     "showTitle": false,
     "tableResultSettingsMap": {},
     "title": ""
    }
   },
   "outputs": [],
   "source": [
    "# (Opcional) Guardar dataset final para entrenamiento/inferencia\n",
    "(features_final\n",
    " .write\n",
    " .format(\"delta\")\n",
    " .mode(\"overwrite\")\n",
    " .option(\"overwriteSchema\",\"true\")\n",
    " .saveAsTable(\"esan_202504.ventas.dataset_entrenamiento\"))\n",
    "\n",
    "# (Opcional) Ver un muestreo\n",
    "display(features_final.limit(20))\n"
   ]
  },
  {
   "cell_type": "code",
   "execution_count": 0,
   "metadata": {
    "application/vnd.databricks.v1+cell": {
     "cellMetadata": {},
     "inputWidgets": {},
     "nuid": "5988467f-90b6-407a-8e92-5b7c7aae3244",
     "showTitle": false,
     "tableResultSettingsMap": {},
     "title": ""
    }
   },
   "outputs": [],
   "source": []
  }
 ],
 "metadata": {
  "application/vnd.databricks.v1+notebook": {
   "computePreferences": null,
   "dashboards": [],
   "environmentMetadata": {
    "base_environment": "",
    "environment_version": "3"
   },
   "inputWidgetPreferences": null,
   "language": "python",
   "notebookMetadata": {
    "pythonIndentUnit": 4
   },
   "notebookName": "modelOps2",
   "widgets": {}
  },
  "language_info": {
   "name": "python"
  }
 },
 "nbformat": 4,
 "nbformat_minor": 0
}
