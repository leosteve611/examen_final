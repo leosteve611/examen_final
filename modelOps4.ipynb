{
 "cells": [
  {
   "cell_type": "code",
   "execution_count": 0,
   "metadata": {
    "application/vnd.databricks.v1+cell": {
     "cellMetadata": {
      "byteLimit": 2048000,
      "rowLimit": 10000
     },
     "inputWidgets": {},
     "nuid": "97010214-7a6c-4666-9afd-8a2e8af20589",
     "showTitle": false,
     "tableResultSettingsMap": {},
     "title": ""
    }
   },
   "outputs": [],
   "source": [
    "import mlflow\n",
    "\n",
    "# Obtener todos los experimentos registrados\n",
    "experiments = mlflow.search_experiments()\n",
    "\n",
    "# Explorar los experimentos:\n",
    "for exp in experiments:\n",
    "    print(f\"Nombre: {exp.name}, ID: {exp.experiment_id}\")\n"
   ]
  },
  {
   "cell_type": "code",
   "execution_count": 0,
   "metadata": {
    "application/vnd.databricks.v1+cell": {
     "cellMetadata": {
      "byteLimit": 2048000,
      "rowLimit": 10000
     },
     "inputWidgets": {},
     "nuid": "3814450e-1523-4ed5-8c1b-98613c2401f7",
     "showTitle": false,
     "tableResultSettingsMap": {},
     "title": ""
    }
   },
   "outputs": [],
   "source": [
    "experiment_id = exp = experiments[0].experiment_id  \n",
    "print(experiment_id)"
   ]
  },
  {
   "cell_type": "code",
   "execution_count": 0,
   "metadata": {
    "application/vnd.databricks.v1+cell": {
     "cellMetadata": {
      "byteLimit": 2048000,
      "rowLimit": 10000
     },
     "inputWidgets": {},
     "nuid": "d617ab69-fffd-433d-8afc-211bdab6dc5e",
     "showTitle": false,
     "tableResultSettingsMap": {},
     "title": ""
    }
   },
   "outputs": [],
   "source": [
    "runs = mlflow.search_runs(experiment_id)\n",
    "# Ver las ejecuciones registradas\n",
    "import pandas as pd\n",
    "pd.set_option(\"display.max_columns\", None)  # Para ver todas las columnas\n",
    "print(runs)\n"
   ]
  },
  {
   "cell_type": "code",
   "execution_count": 0,
   "metadata": {
    "application/vnd.databricks.v1+cell": {
     "cellMetadata": {
      "byteLimit": 2048000,
      "rowLimit": 10000
     },
     "inputWidgets": {},
     "nuid": "b787139b-2cae-4cf0-bfaa-b160bfedec39",
     "showTitle": false,
     "tableResultSettingsMap": {},
     "title": ""
    }
   },
   "outputs": [],
   "source": [
    "import mlflow\n",
    "\n",
    "# Buscar todas las ejecuciones ordenadas por fecha (de más reciente a más antigua)\n",
    "runs = mlflow.search_runs(experiment_ids=[experiment_id], order_by=[\"start_time DESC\"])\n",
    "\n",
    "# Obtener el último run_id (el más reciente)\n",
    "if not runs.empty:\n",
    "    latest_run_id = runs.iloc[0][\"run_id\"]\n",
    "    print(f\"Último run_id: {latest_run_id}\")\n",
    "else:\n",
    "    print(\"No hay ejecuciones en este experimento.\")"
   ]
  },
  {
   "cell_type": "code",
   "execution_count": 0,
   "metadata": {
    "application/vnd.databricks.v1+cell": {
     "cellMetadata": {
      "byteLimit": 2048000,
      "rowLimit": 10000
     },
     "inputWidgets": {},
     "nuid": "258f7331-f0fd-4f2c-ade3-6006b30f947f",
     "showTitle": false,
     "tableResultSettingsMap": {},
     "title": ""
    }
   },
   "outputs": [],
   "source": [
    "run_id = latest_run_id  # ID de la ejecución \n",
    "model_name = \"registro_modelo_notebook\"  # Nombre del modelo en el registro\n",
    "\n",
    "mlflow.register_model(\n",
    "    model_uri=f\"runs:/{run_id}/modelo_simple\",\n",
    "    name=model_name\n",
    ")\n"
   ]
  },
  {
   "cell_type": "code",
   "execution_count": 0,
   "metadata": {
    "application/vnd.databricks.v1+cell": {
     "cellMetadata": {
      "byteLimit": 2048000,
      "rowLimit": 10000
     },
     "inputWidgets": {},
     "nuid": "5dd8ac66-764b-4448-91d2-237bd6e782da",
     "showTitle": false,
     "tableResultSettingsMap": {},
     "title": ""
    }
   },
   "outputs": [],
   "source": [
    "import mlflow.pyfunc\n",
    "\n",
    "# Nombre del modelo en el Model Registry\n",
    "\n",
    "# Versión del modelo a cargar\n",
    "model_version = \"1\"  # Puedes cambiarlo a la versión más reciente\n",
    "\n",
    "# Cargar el modelo desde MLflow\n",
    "loaded_model = mlflow.pyfunc.load_model(f\"models:/{model_name}/{model_version}\")\n",
    "\n",
    "print(\"Modelo cargado correctamente\")\n"
   ]
  },
  {
   "cell_type": "code",
   "execution_count": 0,
   "metadata": {
    "application/vnd.databricks.v1+cell": {
     "cellMetadata": {
      "byteLimit": 2048000,
      "rowLimit": 10000
     },
     "inputWidgets": {},
     "nuid": "9969a8c1-8eb9-4152-b48e-f2aa0c5f90e2",
     "showTitle": false,
     "tableResultSettingsMap": {},
     "title": ""
    }
   },
   "outputs": [],
   "source": [
    "import pandas as pd\n",
    "\n",
    "\n",
    "#  Definir un input correcto con las columnas exactas que espera el modelo\n",
    "input_example = pd.DataFrame([{\n",
    "    \"frecuencia_1m\": 4,\n",
    "    \"cantidad_1m\": 8,\n",
    "    \"tasa\": 0.33,\n",
    "    \"ultima_compra_1m\": 15,\n",
    "    \"monto_total\": 50000,\n",
    "    \"avg_monto\": 1000,\n",
    "    \"max_monto\": 199\n",
    "}])\n",
    "\n",
    "#  Convertir todas las columnas a float64\n",
    "input_example = input_example.astype('float64')\n",
    "\n",
    "# Generar predicciones\n",
    "predictions = loaded_model.predict(input_example)\n",
    "\n",
    "# Mostrar los resultados\n",
    "print(\"Predicciones:\")\n",
    "print(predictions)\n"
   ]
  },
  {
   "cell_type": "code",
   "execution_count": 0,
   "metadata": {
    "application/vnd.databricks.v1+cell": {
     "cellMetadata": {},
     "inputWidgets": {},
     "nuid": "e746f30e-aee8-40dc-8058-404d1ff3165d",
     "showTitle": false,
     "tableResultSettingsMap": {},
     "title": ""
    }
   },
   "outputs": [],
   "source": []
  }
 ],
 "metadata": {
  "application/vnd.databricks.v1+notebook": {
   "computePreferences": null,
   "dashboards": [],
   "environmentMetadata": {
    "base_environment": "",
    "environment_version": "3"
   },
   "inputWidgetPreferences": null,
   "language": "python",
   "notebookMetadata": {
    "pythonIndentUnit": 4
   },
   "notebookName": "modelOps4",
   "widgets": {}
  },
  "language_info": {
   "name": "python"
  }
 },
 "nbformat": 4,
 "nbformat_minor": 0
}
